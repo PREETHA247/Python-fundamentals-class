{
 "cells": [
  {
   "cell_type": "code",
   "execution_count": null,
   "id": "36f5b853",
   "metadata": {},
   "outputs": [],
   "source": [
    "Day 3 - python fundamentals"
   ]
  },
  {
   "cell_type": "code",
   "execution_count": null,
   "id": "632b8fa0",
   "metadata": {},
   "outputs": [],
   "source": [
    "String methods"
   ]
  },
  {
   "cell_type": "code",
   "execution_count": null,
   "id": "1a138ac7",
   "metadata": {},
   "outputs": [],
   "source": [
    "1.type - to validate datatype"
   ]
  },
  {
   "cell_type": "code",
   "execution_count": 1,
   "id": "66457fad",
   "metadata": {},
   "outputs": [
    {
     "name": "stdout",
     "output_type": "stream",
     "text": [
      "preetha\n"
     ]
    }
   ],
   "source": [
    "name = 'preetha'\n",
    "print(name)"
   ]
  },
  {
   "cell_type": "code",
   "execution_count": 2,
   "id": "bbbb6060",
   "metadata": {},
   "outputs": [
    {
     "data": {
      "text/plain": [
       "str"
      ]
     },
     "execution_count": 2,
     "metadata": {},
     "output_type": "execute_result"
    }
   ],
   "source": [
    "type(name)"
   ]
  },
  {
   "cell_type": "code",
   "execution_count": null,
   "id": "8765f3e7",
   "metadata": {},
   "outputs": [],
   "source": [
    "2. title() - right format of the data"
   ]
  },
  {
   "cell_type": "code",
   "execution_count": 5,
   "id": "89d7a89e",
   "metadata": {},
   "outputs": [
    {
     "data": {
      "text/plain": [
       "'Work Smart'"
      ]
     },
     "execution_count": 5,
     "metadata": {},
     "output_type": "execute_result"
    }
   ],
   "source": [
    "thought = 'work smart'\n",
    "thought.title()"
   ]
  },
  {
   "cell_type": "code",
   "execution_count": null,
   "id": "75eb99a5",
   "metadata": {},
   "outputs": [],
   "source": [
    "3. upper() - to convert to upper case letters"
   ]
  },
  {
   "cell_type": "code",
   "execution_count": 6,
   "id": "ad76a4ca",
   "metadata": {},
   "outputs": [
    {
     "data": {
      "text/plain": [
       "'WORK SMART'"
      ]
     },
     "execution_count": 6,
     "metadata": {},
     "output_type": "execute_result"
    }
   ],
   "source": [
    "thought.upper()"
   ]
  },
  {
   "cell_type": "code",
   "execution_count": null,
   "id": "1338592f",
   "metadata": {},
   "outputs": [],
   "source": [
    "4. lower() - to convert to lower case letters"
   ]
  },
  {
   "cell_type": "code",
   "execution_count": 7,
   "id": "feb0d86e",
   "metadata": {},
   "outputs": [
    {
     "data": {
      "text/plain": [
       "'work smart'"
      ]
     },
     "execution_count": 7,
     "metadata": {},
     "output_type": "execute_result"
    }
   ],
   "source": [
    "thought.lower()"
   ]
  },
  {
   "cell_type": "code",
   "execution_count": null,
   "id": "0d70a211",
   "metadata": {},
   "outputs": [],
   "source": [
    "f strings - to combine individual strings"
   ]
  },
  {
   "cell_type": "code",
   "execution_count": 11,
   "id": "8433366b",
   "metadata": {},
   "outputs": [
    {
     "name": "stdout",
     "output_type": "stream",
     "text": [
      "work smart\n"
     ]
    }
   ],
   "source": [
    "thought1 = 'work'\n",
    "thought2 = 'smart'\n",
    "full_thought = f\"{thought1} {thought2}\"\n",
    "print(full_thought)"
   ]
  },
  {
   "cell_type": "code",
   "execution_count": 18,
   "id": "c5663370",
   "metadata": {},
   "outputs": [
    {
     "name": "stdout",
     "output_type": "stream",
     "text": [
      " To achieve work smart\n"
     ]
    }
   ],
   "source": [
    "full_thought1 = f\" To achieve {thought1} {thought2}\"\n",
    "print(full_thought1)"
   ]
  },
  {
   "cell_type": "code",
   "execution_count": null,
   "id": "20135089",
   "metadata": {},
   "outputs": [],
   "source": [
    "\\n - new line delimiter\n",
    "\\t - tab delimiter"
   ]
  },
  {
   "cell_type": "code",
   "execution_count": 20,
   "id": "955d30ab",
   "metadata": {},
   "outputs": [
    {
     "name": "stdout",
     "output_type": "stream",
     "text": [
      "student1student2student3\n"
     ]
    }
   ],
   "source": [
    "namelist = 'student1student2student3'\n",
    "print(namelist)"
   ]
  },
  {
   "cell_type": "code",
   "execution_count": 21,
   "id": "0641baa8",
   "metadata": {},
   "outputs": [
    {
     "name": "stdout",
     "output_type": "stream",
     "text": [
      "student1\n",
      "student2\n",
      "student3\n"
     ]
    }
   ],
   "source": [
    "namelist = 'student1\\nstudent2\\nstudent3'\n",
    "print(namelist)"
   ]
  },
  {
   "cell_type": "code",
   "execution_count": 23,
   "id": "11ba76fa",
   "metadata": {},
   "outputs": [
    {
     "name": "stdout",
     "output_type": "stream",
     "text": [
      "studentdetails\n",
      "\tstudent1\n",
      "\tstudent2\n",
      "\tstudent3\n"
     ]
    }
   ],
   "source": [
    "namelist = 'studentdetails\\n\\tstudent1\\n\\tstudent2\\n\\tstudent3'\n",
    "print(namelist)"
   ]
  },
  {
   "cell_type": "code",
   "execution_count": null,
   "id": "d35f3fc7",
   "metadata": {},
   "outputs": [],
   "source": [
    "removing white spaces - lstrip() , rstrip()"
   ]
  },
  {
   "cell_type": "code",
   "execution_count": 24,
   "id": "1478b431",
   "metadata": {},
   "outputs": [
    {
     "name": "stdout",
     "output_type": "stream",
     "text": [
      "    abc    \n"
     ]
    }
   ],
   "source": [
    "name = '    abc    '\n",
    "print(name)"
   ]
  },
  {
   "cell_type": "code",
   "execution_count": 25,
   "id": "534a0b33",
   "metadata": {},
   "outputs": [
    {
     "data": {
      "text/plain": [
       "'abc    '"
      ]
     },
     "execution_count": 25,
     "metadata": {},
     "output_type": "execute_result"
    }
   ],
   "source": [
    "name.lstrip()"
   ]
  },
  {
   "cell_type": "code",
   "execution_count": 26,
   "id": "dd2a4dd3",
   "metadata": {},
   "outputs": [
    {
     "data": {
      "text/plain": [
       "'    abc'"
      ]
     },
     "execution_count": 26,
     "metadata": {},
     "output_type": "execute_result"
    }
   ],
   "source": [
    "name.rstrip()"
   ]
  },
  {
   "cell_type": "code",
   "execution_count": 28,
   "id": "d5d2bf3e",
   "metadata": {},
   "outputs": [
    {
     "name": "stdout",
     "output_type": "stream",
     "text": [
      "    abc\n"
     ]
    }
   ],
   "source": [
    "n= name.rstrip()\n",
    "print(n)"
   ]
  },
  {
   "cell_type": "code",
   "execution_count": 29,
   "id": "c440aeea",
   "metadata": {},
   "outputs": [
    {
     "data": {
      "text/plain": [
       "'abc'"
      ]
     },
     "execution_count": 29,
     "metadata": {},
     "output_type": "execute_result"
    }
   ],
   "source": [
    "n.lstrip()"
   ]
  },
  {
   "cell_type": "code",
   "execution_count": null,
   "id": "833843d3",
   "metadata": {},
   "outputs": [],
   "source": []
  }
 ],
 "metadata": {
  "kernelspec": {
   "display_name": "Python 3",
   "language": "python",
   "name": "python3"
  },
  "language_info": {
   "codemirror_mode": {
    "name": "ipython",
    "version": 3
   },
   "file_extension": ".py",
   "mimetype": "text/x-python",
   "name": "python",
   "nbconvert_exporter": "python",
   "pygments_lexer": "ipython3",
   "version": "3.8.8"
  }
 },
 "nbformat": 4,
 "nbformat_minor": 5
}
