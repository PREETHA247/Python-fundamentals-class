{
 "cells": [
  {
   "cell_type": "code",
   "execution_count": null,
   "id": "6d25db84",
   "metadata": {},
   "outputs": [],
   "source": [
    "Day 2 python fundamentals - 11 Nov 2021"
   ]
  },
  {
   "cell_type": "code",
   "execution_count": null,
   "id": "5ce1a7e2",
   "metadata": {},
   "outputs": [],
   "source": [
    "Variable declaration rules"
   ]
  },
  {
   "cell_type": "code",
   "execution_count": null,
   "id": "9fc2e365",
   "metadata": {},
   "outputs": [],
   "source": [
    "variable name should not include name spaces"
   ]
  },
  {
   "cell_type": "code",
   "execution_count": 1,
   "id": "961bb982",
   "metadata": {},
   "outputs": [
    {
     "ename": "SyntaxError",
     "evalue": "invalid syntax (<ipython-input-1-6cf549ce8d4e>, line 1)",
     "output_type": "error",
     "traceback": [
      "\u001b[1;36m  File \u001b[1;32m\"<ipython-input-1-6cf549ce8d4e>\"\u001b[1;36m, line \u001b[1;32m1\u001b[0m\n\u001b[1;33m    student name = 'preetha'\u001b[0m\n\u001b[1;37m            ^\u001b[0m\n\u001b[1;31mSyntaxError\u001b[0m\u001b[1;31m:\u001b[0m invalid syntax\n"
     ]
    }
   ],
   "source": [
    "student name = 'preetha'\n",
    "print(student name)"
   ]
  },
  {
   "cell_type": "code",
   "execution_count": 2,
   "id": "338a8d2c",
   "metadata": {},
   "outputs": [
    {
     "name": "stdout",
     "output_type": "stream",
     "text": [
      "preetha\n"
     ]
    }
   ],
   "source": [
    "studentname = 'preetha'\n",
    "print(studentname)"
   ]
  },
  {
   "cell_type": "code",
   "execution_count": null,
   "id": "f4840063",
   "metadata": {},
   "outputs": [],
   "source": [
    "should not start with a number"
   ]
  },
  {
   "cell_type": "code",
   "execution_count": 3,
   "id": "ec5500b8",
   "metadata": {},
   "outputs": [
    {
     "ename": "SyntaxError",
     "evalue": "invalid syntax (<ipython-input-3-e4e24e910001>, line 1)",
     "output_type": "error",
     "traceback": [
      "\u001b[1;36m  File \u001b[1;32m\"<ipython-input-3-e4e24e910001>\"\u001b[1;36m, line \u001b[1;32m1\u001b[0m\n\u001b[1;33m    1day = 'thursday'\u001b[0m\n\u001b[1;37m     ^\u001b[0m\n\u001b[1;31mSyntaxError\u001b[0m\u001b[1;31m:\u001b[0m invalid syntax\n"
     ]
    }
   ],
   "source": [
    "1day = 'thursday'\n",
    "print(1day)"
   ]
  },
  {
   "cell_type": "code",
   "execution_count": 4,
   "id": "f052385d",
   "metadata": {},
   "outputs": [
    {
     "name": "stdout",
     "output_type": "stream",
     "text": [
      "thursday\n"
     ]
    }
   ],
   "source": [
    "day1 = 'thursday'\n",
    "print(day1)"
   ]
  },
  {
   "cell_type": "code",
   "execution_count": null,
   "id": "c780b8de",
   "metadata": {},
   "outputs": [],
   "source": [
    "variable name should not contain special characters"
   ]
  },
  {
   "cell_type": "code",
   "execution_count": 5,
   "id": "9b77f11b",
   "metadata": {},
   "outputs": [
    {
     "ename": "SyntaxError",
     "evalue": "invalid syntax (<ipython-input-5-d8dd4bbab458>, line 1)",
     "output_type": "error",
     "traceback": [
      "\u001b[1;36m  File \u001b[1;32m\"<ipython-input-5-d8dd4bbab458>\"\u001b[1;36m, line \u001b[1;32m1\u001b[0m\n\u001b[1;33m    mail@ ='abc@gmail.com'\u001b[0m\n\u001b[1;37m          ^\u001b[0m\n\u001b[1;31mSyntaxError\u001b[0m\u001b[1;31m:\u001b[0m invalid syntax\n"
     ]
    }
   ],
   "source": [
    "mail@ ='abc@gmail.com'\n",
    "print(mail@)"
   ]
  },
  {
   "cell_type": "code",
   "execution_count": 6,
   "id": "378a5d74",
   "metadata": {},
   "outputs": [
    {
     "name": "stdout",
     "output_type": "stream",
     "text": [
      "abc@gmail.com\n"
     ]
    }
   ],
   "source": [
    "mail = 'abc@gmail.com'\n",
    "print(mail)"
   ]
  },
  {
   "cell_type": "code",
   "execution_count": null,
   "id": "177b242b",
   "metadata": {},
   "outputs": [],
   "source": [
    "datatypes:\n",
    "string - str\n",
    "numbers - int,float\n",
    "list\n",
    "tuple\n",
    "dictionaries - dict"
   ]
  },
  {
   "cell_type": "code",
   "execution_count": null,
   "id": "1adf5e29",
   "metadata": {},
   "outputs": [],
   "source": [
    "declaring string (single quotes, double quotes, triple quotes)"
   ]
  },
  {
   "cell_type": "code",
   "execution_count": 7,
   "id": "ac8a6294",
   "metadata": {},
   "outputs": [
    {
     "name": "stdout",
     "output_type": "stream",
     "text": [
      "preetha\n"
     ]
    }
   ],
   "source": [
    "name ='preetha'\n",
    "print(name)"
   ]
  },
  {
   "cell_type": "code",
   "execution_count": 8,
   "id": "b21a819f",
   "metadata": {},
   "outputs": [
    {
     "name": "stdout",
     "output_type": "stream",
     "text": [
      "thursday\n"
     ]
    }
   ],
   "source": [
    "day =\"thursday\"\n",
    "print(day)"
   ]
  },
  {
   "cell_type": "code",
   "execution_count": 9,
   "id": "1db3a57f",
   "metadata": {},
   "outputs": [
    {
     "name": "stdout",
     "output_type": "stream",
     "text": [
      "11th nov 2021\n"
     ]
    }
   ],
   "source": [
    "date = \"\"\"11th nov 2021\"\"\"\n",
    "print(date)"
   ]
  },
  {
   "cell_type": "code",
   "execution_count": null,
   "id": "c364d24f",
   "metadata": {},
   "outputs": [],
   "source": []
  }
 ],
 "metadata": {
  "kernelspec": {
   "display_name": "Python 3",
   "language": "python",
   "name": "python3"
  },
  "language_info": {
   "codemirror_mode": {
    "name": "ipython",
    "version": 3
   },
   "file_extension": ".py",
   "mimetype": "text/x-python",
   "name": "python",
   "nbconvert_exporter": "python",
   "pygments_lexer": "ipython3",
   "version": "3.8.8"
  }
 },
 "nbformat": 4,
 "nbformat_minor": 5
}
